{
  "nbformat": 4,
  "nbformat_minor": 0,
  "metadata": {
    "colab": {
      "provenance": [],
      "include_colab_link": true
    },
    "kernelspec": {
      "name": "python3",
      "display_name": "Python 3"
    }
  },
  "cells": [
    {
      "cell_type": "markdown",
      "metadata": {
        "id": "view-in-github",
        "colab_type": "text"
      },
      "source": [
        "<a href=\"https://colab.research.google.com/github/choijongha/Titanic-Passenger-Survival-Prediction-Model/blob/main/Titanic_Passenger_Survival_Prediction_Model.ipynb\" target=\"_parent\"><img src=\"https://colab.research.google.com/assets/colab-badge.svg\" alt=\"Open In Colab\"/></a>"
      ]
    },
    {
      "cell_type": "markdown",
      "metadata": {
        "id": "xzk7BtZVk7Wq"
      },
      "source": [
        "## 타이타닉 승객 생존 예측 문제 설명\n",
        "\n",
        "*   총 892개의 레코드로 구성되며 11개의 피쳐와 레이블 필드(생존여부)로 구성\n",
        "*   2번째 필드(Survived)가 바로 예측해야 하는 승객 생존 여부를 나타냄\n",
        "\n",
        " 필드 이름                 설명\n",
        "1. PassengerId:           승객에게 주어진 일련번호\n",
        "2. Survived:              생존여부를 나타내는 레이블 정보\n",
        "3. Pclass:                티켓클래스. 1 = 1st, 2 = 2nd, 3 = 3rd\n",
        "4. Name:                  승객의 이름\n",
        "5. Gender:                승객의 성별\n",
        "6. Age:                   승객의 나이\n",
        "7. SibSp:                 같이 승선한 형제/자매와 배우자의 수\n",
        "8. Parch:                 같이 승선한 부모와 자녀의 수\n",
        "9. Ticket:                티켓 번호\n",
        "10. Fare:                 운임의 값\n",
        "11. Cabin:                숙소 번호\n",
        "12. Embarked:             승선한 항구. C = Cherbourg, Q = Queenstown, S = Southampton\n"
      ]
    },
    {
      "cell_type": "markdown",
      "metadata": {
        "id": "cXeDqaGJiKNI"
      },
      "source": [
        "## 트레이닝 셋 로딩"
      ]
    },
    {
      "cell_type": "code",
      "metadata": {
        "id": "diBBLQiEiTwb"
      },
      "source": [
        "import pandas as pd\n",
        "import numpy as np\n",
        "\n",
        "train = pd.read_csv(\"https://s3-geospatial.s3-us-west-2.amazonaws.com/train.csv\")"
      ],
      "execution_count": null,
      "outputs": []
    },
    {
      "cell_type": "code",
      "metadata": {
        "id": "nbMa5s6nmK8Q",
        "outputId": "ed0776fb-253e-4a6c-d8c2-32b7cb7b1900",
        "colab": {
          "base_uri": "https://localhost:8080/"
        }
      },
      "source": [
        "train.shape"
      ],
      "execution_count": null,
      "outputs": [
        {
          "output_type": "execute_result",
          "data": {
            "text/plain": [
              "(891, 12)"
            ]
          },
          "metadata": {},
          "execution_count": 2
        }
      ]
    },
    {
      "cell_type": "code",
      "metadata": {
        "id": "oO5cdm4DkO1k",
        "outputId": "f244b34b-7928-486f-d7f8-1685969195b3",
        "colab": {
          "base_uri": "https://localhost:8080/"
        }
      },
      "source": [
        "train.columns"
      ],
      "execution_count": null,
      "outputs": [
        {
          "output_type": "execute_result",
          "data": {
            "text/plain": [
              "Index(['PassengerId', 'Survived', 'Pclass', 'Name', 'Sex', 'Age', 'SibSp',\n",
              "       'Parch', 'Ticket', 'Fare', 'Cabin', 'Embarked'],\n",
              "      dtype='object')"
            ]
          },
          "metadata": {},
          "execution_count": 3
        }
      ]
    },
    {
      "cell_type": "code",
      "metadata": {
        "id": "nZPPYBnmNhYH"
      },
      "source": [
        "train.head(10)"
      ],
      "execution_count": null,
      "outputs": []
    },
    {
      "cell_type": "markdown",
      "metadata": {
        "id": "5lWXfrmSrIIr"
      },
      "source": [
        "각종 통계 자료 보기"
      ]
    },
    {
      "cell_type": "code",
      "metadata": {
        "id": "YZkH85dvjz4d"
      },
      "source": [
        "train.info()"
      ],
      "execution_count": null,
      "outputs": []
    },
    {
      "cell_type": "code",
      "metadata": {
        "id": "_ntQfDtOj3dE"
      },
      "source": [
        "train.describe()"
      ],
      "execution_count": null,
      "outputs": []
    },
    {
      "cell_type": "markdown",
      "metadata": {
        "id": "4GJlbbCXrLju"
      },
      "source": [
        "성별 정보 더 자세히 보기"
      ]
    },
    {
      "cell_type": "code",
      "metadata": {
        "id": "zXcy2K3dN7TK"
      },
      "source": [
        "train['Sex'].unique()"
      ],
      "execution_count": null,
      "outputs": []
    },
    {
      "cell_type": "code",
      "metadata": {
        "id": "RKTtJflGmf3D"
      },
      "source": [
        "train.groupby(['Sex','Survived']).size()"
      ],
      "execution_count": null,
      "outputs": []
    },
    {
      "cell_type": "code",
      "metadata": {
        "id": "BQqHfH7LoImL"
      },
      "source": [
        "train.groupby(['Sex','Survived']).size().plot()"
      ],
      "execution_count": null,
      "outputs": []
    },
    {
      "cell_type": "code",
      "metadata": {
        "id": "9kv0L1UmoEGi"
      },
      "source": [
        "train.groupby(['Sex','Survived']).size().plot(kind='bar')"
      ],
      "execution_count": null,
      "outputs": []
    },
    {
      "cell_type": "code",
      "metadata": {
        "id": "6m-evjm8qwft"
      },
      "source": [
        "train.groupby(['Sex','Survived']).size().plot(kind='bar', color=['blue', 'red', 'blue', 'red'])"
      ],
      "execution_count": null,
      "outputs": []
    },
    {
      "cell_type": "code",
      "metadata": {
        "id": "t0NtcLMErz4P"
      },
      "source": [
        "train.value_counts(subset=['Sex', 'Survived'])"
      ],
      "execution_count": null,
      "outputs": []
    },
    {
      "cell_type": "code",
      "metadata": {
        "id": "A1EUqS7GscK4"
      },
      "source": [
        "train.value_counts(subset=['Sex', 'Survived']).sort_index()"
      ],
      "execution_count": null,
      "outputs": []
    },
    {
      "cell_type": "code",
      "metadata": {
        "id": "Xf0Gw5vvr70v"
      },
      "source": [
        "train.value_counts(subset=['Sex', 'Survived']).sort_index().plot(kind='bar')"
      ],
      "execution_count": null,
      "outputs": []
    },
    {
      "cell_type": "markdown",
      "metadata": {
        "id": "9-noAq8ToAxV"
      },
      "source": [
        "승선 항구 정보 더 자세히 보기"
      ]
    },
    {
      "cell_type": "code",
      "metadata": {
        "id": "d7FAAA2Nj9zD"
      },
      "source": [
        "train[\"Embarked\"].unique()"
      ],
      "execution_count": null,
      "outputs": []
    },
    {
      "cell_type": "code",
      "metadata": {
        "id": "BjoJKBMmkKmr"
      },
      "source": [
        "train.groupby(['Embarked','Survived']).size()"
      ],
      "execution_count": null,
      "outputs": []
    },
    {
      "cell_type": "code",
      "metadata": {
        "colab": {
          "base_uri": "https://localhost:8080/",
          "height": 315
        },
        "id": "9jqpzjxprcTu",
        "outputId": "404aab73-5e1a-4ca6-adf7-49ba8b0f26f5"
      },
      "source": [
        "train.groupby(['Embarked','Survived']).size().plot(kind='bar')"
      ],
      "execution_count": null,
      "outputs": [
        {
          "output_type": "execute_result",
          "data": {
            "text/plain": [
              "<matplotlib.axes._subplots.AxesSubplot at 0x7f9dc0251fd0>"
            ]
          },
          "metadata": {
            "tags": []
          },
          "execution_count": 2
        },
        {
          "output_type": "display_data",
          "data": {
            "image/png": "[encoded data removed]",
            "text/plain": [
              "<Figure size 432x288 with 1 Axes>"
            ]
          },
          "metadata": {
            "tags": [],
            "needs_background": "light"
          }
        }
      ]
    },
    {
      "cell_type": "markdown",
      "metadata": {
        "id": "ahpYvBqKqOu6"
      },
      "source": [
        "# 모델 빌딩"
      ]
    },
    {
      "cell_type": "markdown",
      "metadata": {
        "id": "MaAMVXeUV4uw"
      },
      "source": [
        "## 트레이닝 셋 전처리"
      ]
    },
    {
      "cell_type": "markdown",
      "metadata": {
        "id": "H_uO5SR6UeGw"
      },
      "source": [
        "*   Sex라는 컬럼은 문자열 타입이며 머신러닝 알고리즘들은 숫자타입 밖에 이해하지 못함\n",
        "*   이를 숫자 타입으로 변환. male은 1로 female은 0으로 변환\n",
        "*   보통 Scikit Learn에서는 이를 StringIndexer라는 모듈로 변환해줌.\n",
        "\n",
        "여기서는 조금더 간단하게 numpy의 where를 이용해 Gender라는 새로운 컬럼을 생성"
      ]
    },
    {
      "cell_type": "code",
      "metadata": {
        "id": "2t0VdMC5OCEq",
        "colab": {
          "base_uri": "https://localhost:8080/",
          "height": 166
        },
        "outputId": "96239b80-6be9-4ed9-9bc2-fcd972a98973"
      },
      "source": [
        "train['Gender'] = np.where(train['Sex'] == 'male', 1, 0)"
      ],
      "execution_count": null,
      "outputs": [
        {
          "output_type": "error",
          "ename": "NameError",
          "evalue": "ignored",
          "traceback": [
            "\u001b[0;31m---------------------------------------------------------------------------\u001b[0m",
            "\u001b[0;31mNameError\u001b[0m                                 Traceback (most recent call last)",
            "\u001b[0;32m<ipython-input-1-d5da737aa0cd>\u001b[0m in \u001b[0;36m<module>\u001b[0;34m()\u001b[0m\n\u001b[0;32m----> 1\u001b[0;31m \u001b[0mtrain\u001b[0m\u001b[0;34m[\u001b[0m\u001b[0;34m'Gender'\u001b[0m\u001b[0;34m]\u001b[0m \u001b[0;34m=\u001b[0m \u001b[0mnp\u001b[0m\u001b[0;34m.\u001b[0m\u001b[0mwhere\u001b[0m\u001b[0;34m(\u001b[0m\u001b[0mtrain\u001b[0m\u001b[0;34m[\u001b[0m\u001b[0;34m'Sex'\u001b[0m\u001b[0;34m]\u001b[0m \u001b[0;34m==\u001b[0m \u001b[0;34m'male'\u001b[0m\u001b[0;34m,\u001b[0m \u001b[0;36m1\u001b[0m\u001b[0;34m,\u001b[0m \u001b[0;36m0\u001b[0m\u001b[0;34m)\u001b[0m\u001b[0;34m\u001b[0m\u001b[0;34m\u001b[0m\u001b[0m\n\u001b[0m",
            "\u001b[0;31mNameError\u001b[0m: name 'np' is not defined"
          ]
        }
      ]
    },
    {
      "cell_type": "code",
      "metadata": {
        "id": "PqhqLCmgUaMO"
      },
      "source": [
        "train.head(6)"
      ],
      "execution_count": null,
      "outputs": []
    },
    {
      "cell_type": "code",
      "metadata": {
        "id": "RyqYALqYsqCi"
      },
      "source": [
        "# Gender 1 (Male) and Survived 1 negatively correlated \n",
        "train[\"Gender\"].corr(train[\"Survived\"]) "
      ],
      "execution_count": null,
      "outputs": []
    },
    {
      "cell_type": "markdown",
      "metadata": {
        "id": "abRXG9O9XV9U"
      },
      "source": [
        "### 기타 필드들 상관 관계 보기"
      ]
    },
    {
      "cell_type": "code",
      "metadata": {
        "id": "9LsLoQDbXZnq"
      },
      "source": [
        "train[\"Pclass\"].corr(train[\"Survived\"]) "
      ],
      "execution_count": null,
      "outputs": []
    },
    {
      "cell_type": "code",
      "metadata": {
        "id": "8j3NZgZqXlG1"
      },
      "source": [
        "train[\"SibSp\"].corr(train[\"Survived\"]) "
      ],
      "execution_count": null,
      "outputs": []
    },
    {
      "cell_type": "code",
      "metadata": {
        "id": "m5bjbt8KXqMc"
      },
      "source": [
        "train[\"Parch\"].corr(train[\"Survived\"]) "
      ],
      "execution_count": null,
      "outputs": []
    },
    {
      "cell_type": "markdown",
      "metadata": {
        "id": "uBLGBJMHWFtC"
      },
      "source": [
        "### Age 정보가 없는 승객 레코드 채우기\n",
        "\n",
        "\n",
        "*   여기서는 dataframe의 fillna 함수를 이용해서 평균값으로 채움\n",
        "*   Scikit-Learn에서는 Imputer라는 클래스를 이용하는 것이 일반적\n",
        "\n"
      ]
    },
    {
      "cell_type": "code",
      "metadata": {
        "id": "DyZ6_CUTVQ__"
      },
      "source": [
        "train = train.fillna(value={'Age': 29.7})"
      ],
      "execution_count": null,
      "outputs": []
    },
    {
      "cell_type": "code",
      "metadata": {
        "id": "U4UWLiLpWNtF"
      },
      "source": [
        "train.head(6)"
      ],
      "execution_count": null,
      "outputs": []
    },
    {
      "cell_type": "markdown",
      "metadata": {
        "id": "Vm_jBcdSa0jT"
      },
      "source": [
        "### 정규화\n",
        "\n",
        "*   본 실습에서 하지는 않지만 숫자 값의 범위를 0과 1 혹은 -1과 1 처럼 특정 범위로 정규화하는 것이 \n",
        "*   scikit-learn에서는 Scaler를 이용해 이를 수행한다"
      ]
    },
    {
      "cell_type": "markdown",
      "metadata": {
        "id": "2VPPa53WWtuV"
      },
      "source": [
        "### 최종 트레이닝 셋 빌딩"
      ]
    },
    {
      "cell_type": "code",
      "metadata": {
        "id": "3jZ2ZY0EOTTb"
      },
      "source": [
        "train = train.drop(\n",
        "  ['PassengerId', 'Name', 'Ticket', 'Cabin', 'Sex', 'Embarked', 'Parch', 'SibSp'],\n",
        "  axis=1\n",
        ")"
      ],
      "execution_count": null,
      "outputs": []
    },
    {
      "cell_type": "code",
      "metadata": {
        "id": "oXfsHrXnOgNk"
      },
      "source": [
        "train.head(10)"
      ],
      "execution_count": null,
      "outputs": []
    },
    {
      "cell_type": "code",
      "metadata": {
        "id": "vki4BgYTOon5"
      },
      "source": [
        "train.info()"
      ],
      "execution_count": null,
      "outputs": []
    },
    {
      "cell_type": "markdown",
      "metadata": {
        "id": "3ioebfzlXwB8"
      },
      "source": [
        "## 모델 빌딩"
      ]
    },
    {
      "cell_type": "code",
      "metadata": {
        "id": "XZuIbEn2_1Vj"
      },
      "source": [
        "from sklearn.linear_model import LogisticRegression\n",
        "from sklearn.model_selection import train_test_split\n",
        "from sklearn.model_selection import cross_validate"
      ],
      "execution_count": null,
      "outputs": []
    },
    {
      "cell_type": "code",
      "metadata": {
        "id": "2P2tqpQKBfUd"
      },
      "source": [
        "# Logistic Regression 모델 만들기\n",
        "lr = LogisticRegression(random_state=1)"
      ],
      "execution_count": null,
      "outputs": []
    },
    {
      "cell_type": "markdown",
      "metadata": {
        "id": "B6UJidz_zOt0"
      },
      "source": [
        "## 두 가지 종류의 모델 성능 테스트\n",
        "\n",
        "*   Hold out 테스트: train_test_split\n",
        "*   Cross Validation 테스트: cross_validate"
      ]
    },
    {
      "cell_type": "markdown",
      "metadata": {
        "id": "bqSSVIjEqnhz"
      },
      "source": [
        "## Hold Out 테스트 (교차분석 테스트)"
      ]
    },
    {
      "cell_type": "code",
      "metadata": {
        "id": "GbgsaUbT_6Wd"
      },
      "source": [
        "X = train[[\"Pclass\", \"Gender\", \"Age\"]]\n",
        "y = train[\"Survived\"]\n",
        "X_train, X_test, y_train, y_test = train_test_split(X,y,test_size = 0.2)"
      ],
      "execution_count": null,
      "outputs": []
    },
    {
      "cell_type": "code",
      "metadata": {
        "colab": {
          "base_uri": "https://localhost:8080/"
        },
        "id": "wlSIoc2Hjg4O",
        "outputId": "10b49fb6-f651-4b9a-e923-a9e18dafdf23"
      },
      "source": [
        "X_train.shape"
      ],
      "execution_count": null,
      "outputs": [
        {
          "output_type": "execute_result",
          "data": {
            "text/plain": [
              "(712, 3)"
            ]
          },
          "metadata": {
            "tags": []
          },
          "execution_count": 17
        }
      ]
    },
    {
      "cell_type": "code",
      "metadata": {
        "colab": {
          "base_uri": "https://localhost:8080/",
          "height": 202
        },
        "id": "lCVtXxcEjoao",
        "outputId": "f433f02f-84ad-403b-d352-49aaee4c963a"
      },
      "source": [
        "X_train.head(5)"
      ],
      "execution_count": null,
      "outputs": [
        {
          "output_type": "execute_result",
          "data": {
            "text/html": [
              "<div>\n",
              "<style scoped>\n",
              "    .dataframe tbody tr th:only-of-type {\n",
              "        vertical-align: middle;\n",
              "    }\n",
              "\n",
              "    .dataframe tbody tr th {\n",
              "        vertical-align: top;\n",
              "    }\n",
              "\n",
              "    .dataframe thead th {\n",
              "        text-align: right;\n",
              "    }\n",
              "</style>\n",
              "<table border=\"1\" class=\"dataframe\">\n",
              "  <thead>\n",
              "    <tr style=\"text-align: right;\">\n",
              "      <th></th>\n",
              "      <th>Pclass</th>\n",
              "      <th>Gender</th>\n",
              "      <th>Age</th>\n",
              "    </tr>\n",
              "  </thead>\n",
              "  <tbody>\n",
              "    <tr>\n",
              "      <th>58</th>\n",
              "      <td>2</td>\n",
              "      <td>0</td>\n",
              "      <td>5.0</td>\n",
              "    </tr>\n",
              "    <tr>\n",
              "      <th>375</th>\n",
              "      <td>1</td>\n",
              "      <td>0</td>\n",
              "      <td>29.7</td>\n",
              "    </tr>\n",
              "    <tr>\n",
              "      <th>635</th>\n",
              "      <td>2</td>\n",
              "      <td>0</td>\n",
              "      <td>28.0</td>\n",
              "    </tr>\n",
              "    <tr>\n",
              "      <th>590</th>\n",
              "      <td>3</td>\n",
              "      <td>1</td>\n",
              "      <td>35.0</td>\n",
              "    </tr>\n",
              "    <tr>\n",
              "      <th>623</th>\n",
              "      <td>3</td>\n",
              "      <td>1</td>\n",
              "      <td>21.0</td>\n",
              "    </tr>\n",
              "  </tbody>\n",
              "</table>\n",
              "</div>"
            ],
            "text/plain": [
              "     Pclass  Gender   Age\n",
              "58        2       0   5.0\n",
              "375       1       0  29.7\n",
              "635       2       0  28.0\n",
              "590       3       1  35.0\n",
              "623       3       1  21.0"
            ]
          },
          "metadata": {
            "tags": []
          },
          "execution_count": 18
        }
      ]
    },
    {
      "cell_type": "code",
      "metadata": {
        "colab": {
          "base_uri": "https://localhost:8080/"
        },
        "id": "FKPtwVM5jtWv",
        "outputId": "3385b331-b5c9-4444-bcbd-874e38dedab6"
      },
      "source": [
        "y_train.head(5)"
      ],
      "execution_count": null,
      "outputs": [
        {
          "output_type": "execute_result",
          "data": {
            "text/plain": [
              "58     1\n",
              "375    1\n",
              "635    1\n",
              "590    0\n",
              "623    0\n",
              "Name: Survived, dtype: int64"
            ]
          },
          "metadata": {
            "tags": []
          },
          "execution_count": 19
        }
      ]
    },
    {
      "cell_type": "code",
      "metadata": {
        "id": "Qsxc_nfIWCOP"
      },
      "source": [
        "log_reg = lr.fit(X_train, y_train)"
      ],
      "execution_count": null,
      "outputs": []
    },
    {
      "cell_type": "markdown",
      "metadata": {
        "id": "go29KoGnWC65"
      },
      "source": [
        "## 모델 검증"
      ]
    },
    {
      "cell_type": "code",
      "metadata": {
        "id": "EHD9NDKg__DL"
      },
      "source": [
        "from sklearn.metrics import classification_report"
      ],
      "execution_count": null,
      "outputs": []
    },
    {
      "cell_type": "code",
      "metadata": {
        "id": "z6nXrNH_QTCE",
        "colab": {
          "base_uri": "https://localhost:8080/",
          "height": 166
        },
        "outputId": "2168f52a-84fe-4b39-904a-5083c1963ab4"
      },
      "source": [
        "X_test.head()"
      ],
      "execution_count": null,
      "outputs": [
        {
          "output_type": "error",
          "ename": "NameError",
          "evalue": "ignored",
          "traceback": [
            "\u001b[0;31m---------------------------------------------------------------------------\u001b[0m",
            "\u001b[0;31mNameError\u001b[0m                                 Traceback (most recent call last)",
            "\u001b[0;32m<ipython-input-4-c8ff277ea5c9>\u001b[0m in \u001b[0;36m<module>\u001b[0;34m()\u001b[0m\n\u001b[0;32m----> 1\u001b[0;31m \u001b[0mX_test\u001b[0m\u001b[0;34m.\u001b[0m\u001b[0mhead\u001b[0m\u001b[0;34m(\u001b[0m\u001b[0;34m)\u001b[0m\u001b[0;34m\u001b[0m\u001b[0;34m\u001b[0m\u001b[0m\n\u001b[0m",
            "\u001b[0;31mNameError\u001b[0m: name 'X_test' is not defined"
          ]
        }
      ]
    },
    {
      "cell_type": "code",
      "metadata": {
        "id": "0rhgAv-0S41m"
      },
      "source": [
        "y_test.head()"
      ],
      "execution_count": null,
      "outputs": []
    },
    {
      "cell_type": "code",
      "metadata": {
        "id": "V09s6Nx-PGy4"
      },
      "source": [
        "expected   = y_test\n",
        "predicted  = log_reg.predict(X_test)"
      ],
      "execution_count": null,
      "outputs": []
    },
    {
      "cell_type": "code",
      "metadata": {
        "id": "wK6qxVtUTJSY"
      },
      "source": [
        "predicted"
      ],
      "execution_count": null,
      "outputs": []
    },
    {
      "cell_type": "code",
      "metadata": {
        "id": "xrQP91VScqC0"
      },
      "source": [
        "predicted_prob = log_reg.predict_proba(X_test)"
      ],
      "execution_count": null,
      "outputs": []
    },
    {
      "cell_type": "code",
      "metadata": {
        "id": "bnBL_BW0141y"
      },
      "source": [
        "predicted_prob"
      ],
      "execution_count": null,
      "outputs": []
    },
    {
      "cell_type": "code",
      "metadata": {
        "id": "kdEcjttGcx-b"
      },
      "source": [
        "predicted_prob = log_reg.predict_proba(X_test)[:,1]"
      ],
      "execution_count": null,
      "outputs": []
    },
    {
      "cell_type": "code",
      "metadata": {
        "id": "O7Hi3OCVczp9"
      },
      "source": [
        "predicted_prob"
      ],
      "execution_count": null,
      "outputs": []
    },
    {
      "cell_type": "code",
      "metadata": {
        "id": "BIQiRM0Mc5ei"
      },
      "source": [
        "classificationReport = classification_report(expected, predicted)\n",
        "print(classificationReport)"
      ],
      "execution_count": null,
      "outputs": []
    },
    {
      "cell_type": "code",
      "metadata": {
        "id": "AQo-Uj9mPtLg"
      },
      "source": [
        "# 예측되는 값은 0 혹은 1이 되며 0은 생존하지 못했음을 나타내고 1은 생존했음을 나타낸다. 이걸 더 분명하게 하고 싶다면 \n",
        "# target_names 컬럼을 이용해 0을 Died로 표현하고 1을 Survived로 표현하자\n",
        "\n",
        "classificationReport = classification_report(expected, predicted, target_names=[\"Died\", \"Survived\"])\n",
        "print(classificationReport)"
      ],
      "execution_count": null,
      "outputs": []
    },
    {
      "cell_type": "markdown",
      "metadata": {
        "id": "msIlZJKVqW01"
      },
      "source": [
        "## ROC 커브 그려보고 AUC 계산해보기\n",
        "\n",
        "*   https://nittaku.tistory.com/295, https://nittaku.tistory.com/297 참조\n"
      ]
    },
    {
      "cell_type": "code",
      "metadata": {
        "id": "WeS5v6NS1et1",
        "colab": {
          "base_uri": "https://localhost:8080/",
          "height": 218
        },
        "outputId": "fdbf8f9e-b184-45d2-c34e-f82b8b58b2b3"
      },
      "source": [
        "import matplotlib.pyplot as plt\n",
        "from sklearn.metrics import roc_curve, roc_auc_score, auc\n",
        "\n",
        "fpr,tpr,_ = roc_curve(expected, predicted_prob)\n",
        "plt.plot(fpr,tpr)"
      ],
      "execution_count": null,
      "outputs": [
        {
          "output_type": "error",
          "ename": "NameError",
          "evalue": "ignored",
          "traceback": [
            "\u001b[0;31m---------------------------------------------------------------------------\u001b[0m",
            "\u001b[0;31mNameError\u001b[0m                                 Traceback (most recent call last)",
            "\u001b[0;32m<ipython-input-1-49e09b1b9dae>\u001b[0m in \u001b[0;36m<module>\u001b[0;34m()\u001b[0m\n\u001b[1;32m      2\u001b[0m \u001b[0;32mfrom\u001b[0m \u001b[0msklearn\u001b[0m\u001b[0;34m.\u001b[0m\u001b[0mmetrics\u001b[0m \u001b[0;32mimport\u001b[0m \u001b[0mroc_curve\u001b[0m\u001b[0;34m,\u001b[0m \u001b[0mroc_auc_score\u001b[0m\u001b[0;34m,\u001b[0m \u001b[0mauc\u001b[0m\u001b[0;34m\u001b[0m\u001b[0;34m\u001b[0m\u001b[0m\n\u001b[1;32m      3\u001b[0m \u001b[0;34m\u001b[0m\u001b[0m\n\u001b[0;32m----> 4\u001b[0;31m \u001b[0mfpr\u001b[0m\u001b[0;34m,\u001b[0m\u001b[0mtpr\u001b[0m\u001b[0;34m,\u001b[0m\u001b[0m_\u001b[0m \u001b[0;34m=\u001b[0m \u001b[0mroc_curve\u001b[0m\u001b[0;34m(\u001b[0m\u001b[0mexpected\u001b[0m\u001b[0;34m,\u001b[0m \u001b[0mpredicted_prob\u001b[0m\u001b[0;34m)\u001b[0m\u001b[0;34m\u001b[0m\u001b[0;34m\u001b[0m\u001b[0m\n\u001b[0m\u001b[1;32m      5\u001b[0m \u001b[0mplt\u001b[0m\u001b[0;34m.\u001b[0m\u001b[0mplot\u001b[0m\u001b[0;34m(\u001b[0m\u001b[0mfpr\u001b[0m\u001b[0;34m,\u001b[0m\u001b[0mtpr\u001b[0m\u001b[0;34m)\u001b[0m\u001b[0;34m\u001b[0m\u001b[0;34m\u001b[0m\u001b[0m\n",
            "\u001b[0;31mNameError\u001b[0m: name 'expected' is not defined"
          ]
        }
      ]
    },
    {
      "cell_type": "code",
      "metadata": {
        "id": "3Nu8BYIR6BCa"
      },
      "source": [
        "auc(fpr, tpr)"
      ],
      "execution_count": null,
      "outputs": []
    },
    {
      "cell_type": "markdown",
      "metadata": {
        "id": "X26fzTFpX4IL"
      },
      "source": [
        "## 예측 테스트"
      ]
    },
    {
      "cell_type": "code",
      "metadata": {
        "id": "2Z_Q99OfX6Cc",
        "colab": {
          "base_uri": "https://localhost:8080/"
        },
        "outputId": "ca0fef05-173d-43f9-fff7-c0134651fdea"
      },
      "source": [
        "# Pclass\tGender\tAge\n",
        "test = [\n",
        "    [1, 0, 80],\n",
        "    [3, 1, 75]\n",
        "]\n",
        "print(log_reg.predict(test))"
      ],
      "execution_count": null,
      "outputs": [
        {
          "output_type": "stream",
          "text": [
            "[1 0]\n"
          ],
          "name": "stdout"
        }
      ]
    },
    {
      "cell_type": "code",
      "metadata": {
        "id": "11xcnRyj5Axr",
        "colab": {
          "base_uri": "https://localhost:8080/"
        },
        "outputId": "baac00f3-91ba-449d-97e8-fbba3b14726a"
      },
      "source": [
        "print(log_reg.predict_proba(test))"
      ],
      "execution_count": null,
      "outputs": [
        {
          "output_type": "stream",
          "text": [
            "[[0.3647288  0.6352712 ]\n",
            " [0.98415545 0.01584455]]\n"
          ],
          "name": "stdout"
        }
      ]
    },
    {
      "cell_type": "markdown",
      "metadata": {
        "id": "Z2kivWYAYB1w"
      },
      "source": [
        "### 보너스 나이 (age) 시각화"
      ]
    },
    {
      "cell_type": "code",
      "metadata": {
        "colab": {
          "base_uri": "https://localhost:8080/",
          "height": 283
        },
        "id": "gC9k4HPGYKIk",
        "outputId": "a2877298-efda-461a-dc3e-4fdee24ef57c"
      },
      "source": [
        "train[\"Age\"].hist()"
      ],
      "execution_count": null,
      "outputs": [
        {
          "output_type": "execute_result",
          "data": {
            "text/plain": [
              "<matplotlib.axes._subplots.AxesSubplot at 0x7f9dae4e5eb8>"
            ]
          },
          "metadata": {
            "tags": []
          },
          "execution_count": 36
        },
        {
          "output_type": "display_data",
          "data": {
            "image/png": "[encoded data removed]",
            "text/plain": [
              "<Figure size 432x288 with 1 Axes>"
            ]
          },
          "metadata": {
            "tags": [],
            "needs_background": "light"
          }
        }
      ]
    },
    {
      "cell_type": "code",
      "metadata": {
        "colab": {
          "base_uri": "https://localhost:8080/",
          "height": 283
        },
        "id": "aV54OoiCYFhR",
        "outputId": "41b442fb-9055-4598-faec-ee509b9f2fac"
      },
      "source": [
        "train.pivot(columns='Survived').Age.plot(kind = 'hist', stacked=True)"
      ],
      "execution_count": null,
      "outputs": [
        {
          "output_type": "execute_result",
          "data": {
            "text/plain": [
              "<matplotlib.axes._subplots.AxesSubplot at 0x7f9dae4851d0>"
            ]
          },
          "metadata": {
            "tags": []
          },
          "execution_count": 37
        },
        {
          "output_type": "display_data",
          "data": {
            "image/png": "[encoded data removed]",
            "text/plain": [
              "<Figure size 432x288 with 1 Axes>"
            ]
          },
          "metadata": {
            "tags": [],
            "needs_background": "light"
          }
        }
      ]
    }
  ]
}